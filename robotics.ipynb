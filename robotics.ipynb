{
 "nbformat": 4,
 "nbformat_minor": 2,
 "metadata": {
  "language_info": {
   "name": "python",
   "codemirror_mode": {
    "name": "ipython",
    "version": 3
   },
   "version": "3.7.6-final"
  },
  "orig_nbformat": 2,
  "file_extension": ".py",
  "mimetype": "text/x-python",
  "name": "python",
  "npconvert_exporter": "python",
  "pygments_lexer": "ipython3",
  "version": 3,
  "kernelspec": {
   "name": "python3",
   "display_name": "Python 3"
  }
 },
 "cells": [
  {
   "cell_type": "markdown",
   "execution_count": null,
   "metadata": {},
   "outputs": [],
   "source": [
    "# Mobile Roboter\n",
    "\n",
    "Mobile Roboter unterscheiden sich von anderen Robotern durch die Fähigkeit sich fortzubewegen.\n",
    "\n",
    "## Arten der Fortbewegung\n",
    "\n",
    "### Rollend\n",
    "\n",
    "<img src=\"images/warehouse.gif\" width=\"400\">\n",
    "\n",
    "Quelle: https://money.cnn.com/\n",
    "\n",
    "<img src=\"images/curiosity.gif\" width=\"400\">\n",
    "\n",
    "Quelle: https://www.nationalgeographic.com/\n",
    "\n",
    "<img src=\"images/roomba.gif\" width=\"400\">\n",
    "\n",
    "Quelle: https://www.bbc.com/\n",
    "\n",
    "### Laufend\n",
    "\n",
    "<img src=\"images/spot.gif\" width=\"400\">\n",
    "\n",
    "Quelle: https://www.bostondynamics.com/\n",
    "\n",
    "<img src=\"images/atlas.gif\" width=\"400\">\n",
    "\n",
    "Quelle: https://www.bostondynamics.com/\n",
    "\n",
    "### Fliegend\n",
    "\n",
    "<img src=\"images/amazon.gif\" width=\"400\">\n",
    "\n",
    "Quelle: https://www.amazon.com/Amazon-Prime-Air\n",
    "\n",
    "### Schwimmend\n",
    "\n",
    "<img src=\"images/festo.gif\" width=\"400\">\n",
    "\n",
    "Quelle: https://www.festo.com/"
   ]
  },
  {
   "cell_type": "markdown",
   "execution_count": null,
   "metadata": {},
   "outputs": [],
   "source": [
    "## Der Zustand\n",
    "\n",
    "Im folgenden werden wir einen 2D mobilen Roboter programmieren, der sich in seiner eigenen 2D Welt fortbewegt. Diese Welt ist zunächst leer. Sie hat eine Breite x und eine Höhe y. Ihr könnt sie euch wie eine große leere Fläche vorstellen, auf der sich der Roboter bewegen wird.\n"
   ]
  },
  {
   "cell_type": "code",
   "execution_count": null,
   "metadata": {},
   "outputs": [],
   "source": [
    "# Imports\n",
    "import sys\n",
    "sys.path.append('mobilerobot')\n",
    "from IPython.display import HTML\n",
    "from world import SimpleWorld\n",
    "from vehicle import Vehicle\n",
    "%matplotlib notebook"
   ]
  },
  {
   "cell_type": "code",
   "execution_count": null,
   "metadata": {},
   "outputs": [],
   "source": [
    "world = SimpleWorld(x=100, y=100)\n",
    "world.showScene()"
   ]
  },
  {
   "cell_type": "markdown",
   "execution_count": null,
   "metadata": {},
   "outputs": [],
   "source": [
    "Dieser Welt können wir nun einen Roboter hinzufügen, indem wir bei der Instanzierung eine Liste mit Roboterobjekten (``vehicles``) übergeben. Diese Liste erhält zunächst nur einen einzelnen Wert."
   ]
  },
  {
   "cell_type": "code",
   "execution_count": null,
   "metadata": {},
   "outputs": [],
   "source": [
    "vehicle = Vehicle(radius=3)\n",
    "\n",
    "world = SimpleWorld(x=100, y=100, vehicles=[vehicle])\n",
    "world.showScene()"
   ]
  },
  {
   "cell_type": "markdown",
   "execution_count": null,
   "metadata": {},
   "outputs": [],
   "source": [
    "Durch drei Parameter können wir den Zustand des Roboters in der Welt beschreiben. Zwei Parameter beschreiben die Position (``x`` und ``y``) und einer beschreibt die Rotation des Roboters (``theta``). Ist ``theta`` 0, so ist der Roboter nach oben ausgerichtet. Bei 90 nach links, bei 180 nach unten und bei -90 nach rechts. Zu jedem dieser Werte können wir 360 hinzu- oder abziehen, ohne dass sich der Zustand des Roboters ändert. Es ist also egal, ob wir -90 oder 270 schreiben, in beiden Fällen zeigt der Roboter nach rechts.\n",
    "\n",
    "Der Roboter ist ganz klein in der linken unteren Ecke zu erkennen. Das liegt daran, dass bei der Initialisierung die Werte für ``x``, ``y`` und ``theta`` 0 sind.\n",
    "\n",
    "**Aufgabe**: Ändere den Zustand des Roboters durch Modifizierung der Zustandsparamter in der ``setState``-Funktion."
   ]
  },
  {
   "cell_type": "code",
   "execution_count": null,
   "metadata": {},
   "outputs": [],
   "source": [
    "vehicle = Vehicle(radius=3)\n",
    "\n",
    "vehicle.setState(x=50, y=50, theta=-90)\n",
    "\n",
    "world = SimpleWorld(x=100, y=100, vehicles=[vehicle])\n",
    "world.showScene()"
   ]
  },
  {
   "cell_type": "markdown",
   "execution_count": null,
   "metadata": {},
   "outputs": [],
   "source": [
    "Für die Beschreibung der dreidimensionalen Welt benötigen wir sechs Parameter. Diese sind ``x``, ``y`` und ``z`` sowie drei Orientierungswinkel ``alpha``, ``beta`` und ``gamma``."
   ]
  },
  {
   "cell_type": "markdown",
   "execution_count": null,
   "metadata": {},
   "outputs": [],
   "source": [
    "Damit sich der Roboter fortbewegt müssen wir eine Zustandsveränderung herbeiführen. Die ``Vehicle``-Klasse hat dafür drei Funktionen. Diese sind ``moveForward(distance)``, ``rotateRight(angle)`` und ``rotateLeft(angle)``."
   ]
  },
  {
   "cell_type": "code",
   "execution_count": null,
   "metadata": {},
   "outputs": [],
   "source": [
    "%%capture\n",
    "vehicle = Vehicle(radius=3)\n",
    "vehicle.setState(x=50, y=70, theta=200)\n",
    "\n",
    "def move(vehicle):\n",
    "    vehicle.moveForward(0.05)\n",
    "\n",
    "vehicle.controller = move\n",
    "\n",
    "world = SimpleWorld(x=100, y=100, vehicles=[vehicle])\n",
    "anim = world.initAnimation(1000)"
   ]
  },
  {
   "cell_type": "code",
   "execution_count": null,
   "metadata": {},
   "outputs": [],
   "source": [
    "HTML(anim.to_jshtml())"
   ]
  },
  {
   "cell_type": "markdown",
   "execution_count": null,
   "metadata": {},
   "outputs": [],
   "source": [
    "## Hindernisse umfahren\n",
    "\n",
    "## Konfigurationsraum\n",
    "\n",
    "Draw configuration space"
   ]
  }
 ]
}