{
 "nbformat": 4,
 "nbformat_minor": 2,
 "metadata": {
  "language_info": {
   "name": "python",
   "codemirror_mode": {
    "name": "ipython",
    "version": 3
   },
   "version": "3.7.6-final"
  },
  "orig_nbformat": 2,
  "file_extension": ".py",
  "mimetype": "text/x-python",
  "name": "python",
  "npconvert_exporter": "python",
  "pygments_lexer": "ipython3",
  "version": 3,
  "kernelspec": {
   "name": "python3",
   "display_name": "Python 3"
  }
 },
 "cells": [
  {
   "cell_type": "markdown",
   "execution_count": null,
   "metadata": {},
   "outputs": [],
   "source": [
    "# Grundlagen in Python\n",
    "\n",
    "Du siehst gerade vor dir ein sogenanntes **Jupyter Notebook**. Das ist ein Dokument, das ausführbaren Code, Visualisierungen und Erklärungen beinhaltet. Direkt unterhalb dieses Textes siehst du eine Zelle mit ausführbarem Code. Klicke zum Ausführen zuerst auf die Zelle und anschließend auf **Run** in der Toolleiste. Unterhalb der Zelle erscheinen anschließend die Worte ``Hello World!``. Du wirst dem ``print()``-Befehl noch oft begegnen. Er wird dazu verwendet etwas im Ausgabebereich anzuzeigen.\n"
   ]
  },
  {
   "cell_type": "code",
   "execution_count": null,
   "metadata": {},
   "outputs": [],
   "source": [
    "print('Hello World!')"
   ]
  },
  {
   "cell_type": "markdown",
   "execution_count": null,
   "metadata": {},
   "outputs": [],
   "source": [
    "**Aufgabe**: Ändere den ``print()``-Befehl in der folgenden Zelle, sodass ``Hallo <dein Name>`` ausgegeben wird."
   ]
  },
  {
   "cell_type": "code",
   "execution_count": null,
   "metadata": {},
   "outputs": [],
   "source": [
    "print('Hallo ')"
   ]
  },
  {
   "cell_type": "markdown",
   "execution_count": null,
   "metadata": {},
   "outputs": [],
   "source": [
    "Doch bevor wir tiefer in das Programmieren einsteigen, zunächst noch ein paar Worte über Python, die Programmiersprache die wir heute und in den folgenden Stunden verwenden werden. Warum gerade Python? Python eignet sich gut zum Einstieg in das Programmieren, da es eine Sprache mit einer relativ einfachen Syntax ist und dem Programmierer low-level Aufgaben wie die Speicherverwaltung weitestgehend abnimmt. Dennoch handelt es sich um eine mächtige Programmiersprache. Python ist plattformunabhängig. Das heißt es ist sehr einfach ein in Python geschriebenes Programm auch auf anderen Systemen (Windows, Linux, Macintosh, ...) auszuführen. Desweiteren ist Python open source und wird kontinuierlich von einer großen Community weiterentwickelt und verbessert.\n",
    "\n",
    "Python eignet sich unter anderem für\n",
    "\n",
    "* Automatisierung von Prozessen\n",
    "* Verarbeitung und Visualisierung von Daten\n",
    "* Backend für Webanwendungen\n",
    "* Maschinelles Lernen\n",
    "\n",
    "Doch Python hat auch seine Grenzen. Für Programme, bei denen Effizienz hinsichtlich der Laufzeit oder Speichernutzung vonnöten ist, werden andere Programmiersprachen wie C++ vorgezogen.\n",
    "\n",
    "Wir nutzen mit diesem Jupyter Notebook eine Pythoninstallation auf einem Server, auf die wir über den Browser zugreifen können. Es ist daher keine weitere Installation vonnöten.\n",
    "Wenn ihr Python auf euren Rechnern lokal nutzen wollt, müsst ihr es zunächst installieren, geht dazu auf [python.org](https://www.python.org/) und folgt den Anleitungen für euer Betriebssystem. Skripte für Python können in jedem beliebigen Editor geschrieben werden. Ich nutze beruflich und privat [Visual Studio Code](https://code.visualstudio.com/docs/python/python-tutorial).\n",
    "\n",
    "Zum Üben des Gelernten kannst du auf den folgenden Seiten online Programmierrätsel üben:\n",
    "* [Leetcode](https://leetcode.com/problemset/algorithms/?difficulty=Easy)\n",
    "* [Codewars](https://www.codewars.com/)"
   ]
  },
  {
   "cell_type": "markdown",
   "execution_count": null,
   "metadata": {},
   "outputs": [],
   "source": [
    "## Kommentare\n",
    "\n",
    "Es ist möglich in Python Kommentare einzufügen. Kommentare werden bei der Ausführung des Programms ignoriert. Python erkennt dies am Symbol ``#``."
   ]
  },
  {
   "cell_type": "code",
   "execution_count": null,
   "metadata": {},
   "outputs": [],
   "source": [
    "print('Kein Kommentar')\n",
    "# print('Ein Kommentar)\n",
    "print('Kein Kommentar')\n",
    "# Ein Kommentar"
   ]
  },
  {
   "cell_type": "markdown",
   "execution_count": null,
   "metadata": {},
   "outputs": [],
   "source": [
    "## Errors\n",
    "\n",
    "Falls wir Code schreiben, den Python nicht versteht, erhalten wir bei der Ausführung der Zelle einen Fehler. Bei der folgenden Zelle sehen wir einen ``SyntaxError``.\n",
    "\n",
    "**Aufgabe**: Ändere den Code, sodass keine ``SyntaxError`` mehr ausgegeben wird."
   ]
  },
  {
   "cell_type": "code",
   "execution_count": null,
   "metadata": {},
   "outputs": [],
   "source": [
    "print(Kein Fehler)"
   ]
  },
  {
   "cell_type": "markdown",
   "execution_count": null,
   "metadata": {},
   "outputs": [],
   "source": [
    "## Datentypen\n",
    "\n",
    "Der Computer spricht eine andere Sprache als wir, auch wenn wir gerade mit ``Hello World!`` begrüßt wurden. Python hat uns geholfen diesen Satz in die Sprache des Computers zu übersetzen. \n",
    "Im Beispiel haben wir einen sogenannten String (``str``) ausgegeben. Neben diesem Datentyp kann Python uns Ganzzahlen (``int``), Gleitkommazahlen (``float``), Bool'sche Werte (``bool``) oder Listen (``list``) übersetzen. Python unterstützt noch weitere Datentypen, für diesen Kurs sind die obengenannten jedoch ausreichend. Schauen wir uns Beispiele für diese Datentypen an. Der ``type()``-Befehl gibt uns den Datentyp des Eingabewertes aus."
   ]
  },
  {
   "cell_type": "code",
   "execution_count": null,
   "metadata": {},
   "outputs": [],
   "source": [
    "type('Hello World!')"
   ]
  },
  {
   "cell_type": "code",
   "execution_count": null,
   "metadata": {},
   "outputs": [],
   "source": [
    "type(1)"
   ]
  },
  {
   "cell_type": "code",
   "execution_count": null,
   "metadata": {},
   "outputs": [],
   "source": [
    "type(1.1)"
   ]
  },
  {
   "cell_type": "code",
   "execution_count": null,
   "metadata": {},
   "outputs": [],
   "source": [
    "type(True)"
   ]
  },
  {
   "cell_type": "code",
   "execution_count": null,
   "metadata": {},
   "outputs": [],
   "source": [
    "type([])"
   ]
  },
  {
   "cell_type": "markdown",
   "execution_count": null,
   "metadata": {},
   "outputs": [],
   "source": [
    "## Operatoren\n",
    "\n",
    "### Arithmetische Operatoren\n",
    "\n",
    "Mithilfe von arithmetischen Operatoren können wir Berechnungen ausführen.\n",
    "\n",
    "* ``+`` Addition\n",
    "* ``-`` Subtraktion\n",
    "* ``*`` Multiplikation\n",
    "* ``/`` Division\n",
    "* ``//`` Division und Abrunden\n",
    "* ``**`` Exponent\n",
    "* ``%`` Modulus"
   ]
  },
  {
   "cell_type": "code",
   "execution_count": null,
   "metadata": {},
   "outputs": [],
   "source": [
    "4 + 3\n"
   ]
  },
  {
   "cell_type": "markdown",
   "execution_count": null,
   "metadata": {},
   "outputs": [],
   "source": [
    "### Relationale Operatoren\n",
    "\n",
    "Mithilfe von relationalen Operatoren können wir zwei Werte vergleichen.\n",
    "\n",
    "* ``<`` kleiner\n",
    "* ``>`` größer\n",
    "* ``<=`` kleiner gleich\n",
    "* ``>=`` größer gleich\n",
    "* ``==`` gleich\n",
    "* ``!=`` ungleich"
   ]
  },
  {
   "cell_type": "code",
   "execution_count": null,
   "metadata": {},
   "outputs": [],
   "source": [
    "4 < 3"
   ]
  },
  {
   "cell_type": "markdown",
   "execution_count": null,
   "metadata": {},
   "outputs": [],
   "source": [
    "### Logische Operatoren\n",
    "\n",
    "* ``and`` und\n",
    "* ``or`` oder\n",
    "* ``not`` nicht"
   ]
  },
  {
   "cell_type": "code",
   "execution_count": null,
   "metadata": {},
   "outputs": [],
   "source": [
    "not 3 < 4 and (3 == 3  or 4 == 1)"
   ]
  },
  {
   "cell_type": "markdown",
   "execution_count": null,
   "metadata": {},
   "outputs": [],
   "source": [
    "## Variablen\n",
    "\n",
    "Variablen dienen zur Zwischenspeicherung von Daten. In der folgenden Zelle speichern wir beispielsweise das Ergebnis der Operation ``3+4`` ab. Dieses kann dann später im Code wiederverwendet werden. In Python schreiben wir zur Zuweisung einer Variablen dessen Namen gefolgt von einem Gleichheitszeichen und den Daten, die wir zwischenspeichern möchten."
   ]
  },
  {
   "cell_type": "code",
   "execution_count": null,
   "metadata": {},
   "outputs": [],
   "source": [
    "x = 3 + 4\n",
    "print(f'Die Variable x hat den Wert {x}')"
   ]
  },
  {
   "cell_type": "markdown",
   "execution_count": null,
   "metadata": {},
   "outputs": [],
   "source": [
    "**Aufgabe**: Ändere in der folgenden Zelle die Werte für ``m``, ``x`` und ``b`` und lass dir das Ergebnis anzeigen."
   ]
  },
  {
   "cell_type": "code",
   "execution_count": null,
   "metadata": {},
   "outputs": [],
   "source": [
    "x = 2\n",
    "b = 3\n",
    "m = 4\n",
    "y = m * x + b\n",
    "print(f'Die Variable y hat den Wert {y}')"
   ]
  },
  {
   "cell_type": "markdown",
   "execution_count": null,
   "metadata": {},
   "outputs": [],
   "source": [
    "**Aufgabe**: Multipliziere zwei Zahlen und schreibe das Ergebnis in eine Variable mit dem Namen ``produkt``."
   ]
  },
  {
   "cell_type": "code",
   "execution_count": null,
   "metadata": {},
   "outputs": [],
   "source": [
    "produkt = 3*4"
   ]
  },
  {
   "cell_type": "markdown",
   "execution_count": null,
   "metadata": {},
   "outputs": [],
   "source": [
    "**Aufgabe**: Berechne den Rest aus der Division von 111 und 4 und schreibe das Ergebnis in eine Variable mit dem Namen ``rest``."
   ]
  },
  {
   "cell_type": "code",
   "execution_count": null,
   "metadata": {},
   "outputs": [],
   "source": []
  },
  {
   "cell_type": "markdown",
   "execution_count": null,
   "metadata": {},
   "outputs": [],
   "source": [
    "Der Wert einer Variablen kann zu jeder Zeit geändert werden."
   ]
  },
  {
   "cell_type": "code",
   "execution_count": null,
   "metadata": {},
   "outputs": [],
   "source": [
    "distanz = 10\n",
    "print(f'Bis zum Ziel sind es {distanz} Meter')\n",
    "distanz -= 2\n",
    "print(f'Bis zum Ziel sind es {distanz} Meter')\n",
    "distanz -= 1\n",
    "print(f'Bis zum Ziel sind es {distanz} Meter')\n",
    "# füge hier deinen Code ein\n",
    "print(f'Bis zum Ziel sind es {distanz} Meter')"
   ]
  },
  {
   "cell_type": "markdown",
   "execution_count": null,
   "metadata": {},
   "outputs": [],
   "source": [
    "**Aufgabe**: Addiere die Arbeitszeiten für Mittwoch, Donnerstag und Freitag zur Variablen ``arbeitszeit`` hinzu, sodass die Wochenarbeitszeit ausgegeben wird."
   ]
  },
  {
   "cell_type": "code",
   "execution_count": null,
   "metadata": {},
   "outputs": [],
   "source": [
    "arbeitszeit = 0\n",
    "zeit_montag = 8.3\n",
    "arbeitszeit += zeit_montag\n",
    "zeit_dienstag = 8.1\n",
    "arbeitszeit += zeit_dienstag\n",
    "zeit_mittwoch = 8.7\n",
    "\n",
    "zeit_donnerstag = 8.0\n",
    "\n",
    "zeit_freitag = 6.9\n",
    "\n",
    "print(f'Die Wochenarbeitszeit beträgt {arbeitszeit} Stunden.')"
   ]
  },
  {
   "cell_type": "markdown",
   "execution_count": null,
   "metadata": {},
   "outputs": [],
   "source": [
    "## Bedingete Anweisungen\n",
    "\n",
    "Wenn wir Entscheidungen im Code ausdrücken möchten, brauchen wir bedingte Anweisungen."
   ]
  },
  {
   "cell_type": "code",
   "execution_count": null,
   "metadata": {},
   "outputs": [],
   "source": [
    "hindernisVoraus = False\n",
    "\n",
    "if hindernisVoraus:\n",
    "    print(\"Weiche aus!\")\n",
    "else:\n",
    "    print(\"Fahre geradeaus!\")\n"
   ]
  },
  {
   "cell_type": "code",
   "execution_count": null,
   "metadata": {},
   "outputs": [],
   "source": [
    "distanzZuHindernis = 0.8\n",
    "\n",
    "if distanzZuHindernis > 1.0:\n",
    "    print(\"Fahre geradeaus!\")\n",
    "elif distanzZuHindernis > 0.2:\n",
    "    print(\"Weiche aus!\")\n",
    "else:\n",
    "    print(\"Bleibe stehen!\")"
   ]
  },
  {
   "cell_type": "markdown",
   "execution_count": null,
   "metadata": {},
   "outputs": [],
   "source": [
    "**Aufgabe**: Die Messdaten zweier Sensoren sind in den Variablen ``sensorLinks`` und ``sensorRechts`` gespeichert. Schreibe eine bedingte Anweisung, sodass ``Fahre nach rechts!`` zu lesen ist, wenn der rechte Sensor einen höheren Wert anzeigt, ``Fahre nach links!`` zu lesen ist, wenn der linke Sensor einen höheren Wert anzeigt und ``Fahre geradeaus!`` zu lesen ist, wenn beide Sensoren denselben Wert liefern."
   ]
  },
  {
   "cell_type": "code",
   "execution_count": null,
   "metadata": {},
   "outputs": [],
   "source": [
    "sensorLinks = 0.5\n",
    "sensorRechts = 0.3\n",
    "\n",
    "# schreibe hier deinen Code"
   ]
  },
  {
   "cell_type": "markdown",
   "execution_count": null,
   "metadata": {},
   "outputs": [],
   "source": [
    "## Schleifen\n",
    "\n",
    "Um wiederholt Anweisungen auszuführen, gibt es in python die ``while``- und die ``for``-Schleife. Die ``while``-Schleife wird solange ausgeführt, bis die Anweisung hinter dem ``while`` ``False`` ergibt."
   ]
  },
  {
   "cell_type": "code",
   "execution_count": null,
   "metadata": {},
   "outputs": [],
   "source": [
    "distanzZuHindernis = 8\n",
    "\n",
    "while distanzZuHindernis > 0:\n",
    "    distanzZuHindernis -= 2\n",
    "    print(f'Das Hindernis ist {distanzZuHindernis} Meter entfernt.')\n",
    "    "
   ]
  },
  {
   "cell_type": "markdown",
   "execution_count": null,
   "metadata": {},
   "outputs": [],
   "source": [
    "**Aufgabe**: Schreibe eine ``while``-Schleife, die die Variable ``zahl`` quadriert und ausgibt, bis sie größer als 500 ist."
   ]
  },
  {
   "cell_type": "code",
   "execution_count": null,
   "metadata": {},
   "outputs": [],
   "source": [
    "zahl = 2\n",
    "\n",
    "# schreibe hier deinen Code"
   ]
  },
  {
   "cell_type": "markdown",
   "execution_count": null,
   "metadata": {},
   "outputs": [],
   "source": [
    "Bei der ``for``-Schleife definieren wir im Vorhinein, wie oft sie abgearbeitet werden soll. Im folgenden Beispiel nutzen wir die ``range``-Funktion um Werte von 1 bis 4 anzuzeigen."
   ]
  },
  {
   "cell_type": "code",
   "execution_count": null,
   "metadata": {},
   "outputs": [],
   "source": [
    "for distanz in range(1, 5):\n",
    "    print(distanz)"
   ]
  },
  {
   "cell_type": "markdown",
   "execution_count": null,
   "metadata": {},
   "outputs": [],
   "source": [
    "**Aufgabe**: Schreibe eine ``for``-Schleife, die die Zahlen von 3 bis 33 ausgibt."
   ]
  },
  {
   "cell_type": "code",
   "execution_count": null,
   "metadata": {},
   "outputs": [],
   "source": []
  },
  {
   "cell_type": "markdown",
   "execution_count": null,
   "metadata": {},
   "outputs": [],
   "source": [
    "## Funktionen\n",
    "\n",
    "Um ein Teilstück vom Code in einem Skript mehrfach zu verwenden, können wir es in eine Funktion auslagern."
   ]
  },
  {
   "cell_type": "code",
   "execution_count": null,
   "metadata": {},
   "outputs": [],
   "source": [
    "def addiere(a, b):\n",
    "    c = a + b\n",
    "    print(f'Das Ergebnis der Addition von {a} und {b} ist {c}')\n",
    "\n",
    "addiere(1,2)\n",
    "addiere(5,6)"
   ]
  },
  {
   "cell_type": "markdown",
   "execution_count": null,
   "metadata": {},
   "outputs": [],
   "source": [
    "**Aufgabe**: Schreibe eine Funktione ``helloWorld()`` die ``Hello World!`` ausgibt und rufe sie auf."
   ]
  },
  {
   "cell_type": "code",
   "execution_count": null,
   "metadata": {},
   "outputs": [],
   "source": []
  },
  {
   "cell_type": "markdown",
   "execution_count": null,
   "metadata": {},
   "outputs": [],
   "source": [
    "Funktionen können auch Werte zurückgeben."
   ]
  },
  {
   "cell_type": "code",
   "execution_count": null,
   "metadata": {},
   "outputs": [],
   "source": [
    "def energie(m):\n",
    "    c = 3e8 # m/s\n",
    "    E = m * c ** 2 # J\n",
    "    return E\n",
    "\n",
    "print(f'Die Energie von einer Masse von 1 kg ist {energie(1):.1e} J')\n",
    "print(f'Die Energie von einer Masse von 0.3 kg ist {energie(0.3):.1e} J')"
   ]
  },
  {
   "cell_type": "markdown",
   "execution_count": null,
   "metadata": {},
   "outputs": [],
   "source": [
    "**Aufgabe**: Ergänze die Funktion ``inFahrenheit``, sodass sie eine Temperatur von Grad Celsius in Grad Fahrenheit umrechnet. Die Formel dazu ist $$T_{Fahrenheit} = (T_{Celsius} \\cdot 1.8) + 32$$"
   ]
  },
  {
   "cell_type": "code",
   "execution_count": null,
   "metadata": {},
   "outputs": [],
   "source": [
    "def inFahrenheit(temperatur_in_celsius):\n",
    "    # berechne hier die neue Temperatur\n",
    "    pass\n",
    "\n",
    "x = 25\n",
    "print(f'{x} Grad Celsius sind {inFahrenheit(x)} Grad Fahrenheit')"
   ]
  },
  {
   "cell_type": "markdown",
   "execution_count": null,
   "metadata": {},
   "outputs": [],
   "source": [
    "## Listen\n",
    "\n",
    "Eine Liste ist ein besonderer Datentyp, der aus verschiedenen Elementen eines oder mehrerer Datentypen besteht. Die Länge der Liste können wir mit der Funktion ``len`` bestimmen."
   ]
  },
  {
   "cell_type": "code",
   "execution_count": null,
   "metadata": {},
   "outputs": [],
   "source": [
    "leereListe = []\n",
    "listeMitEinemElement = [15]\n",
    "listeMitMehrerenElementen = [1, 'hello', 3.0, 5]\n",
    "\n",
    "print(f'leereListe hat die Länge {len(leereListe)}')\n",
    "print(f'listeMitEinemElement hat die Länge {len(listeMitEinemElement)}')\n",
    "print(f'listeMitMehrerenElementen hat die Länge {len(listeMitMehrerenElementen)}')"
   ]
  },
  {
   "cell_type": "markdown",
   "execution_count": null,
   "metadata": {},
   "outputs": [],
   "source": [
    "### Elementzugriff\n",
    "\n",
    "Jedem Element ist ein Index beginnend mit ``0`` zugeordnet. Um auf ein Element zuzugreifen, schreiben wir den Index in eckigen Klammern hinter den Variablennamen."
   ]
  },
  {
   "cell_type": "code",
   "execution_count": null,
   "metadata": {},
   "outputs": [],
   "source": [
    "listeMitMehrerenElementen[2]"
   ]
  },
  {
   "cell_type": "markdown",
   "execution_count": null,
   "metadata": {},
   "outputs": [],
   "source": [
    "Python erlaubt es uns zudem, auf Elemente beginnend vom Ende der Liste zuzugreifen."
   ]
  },
  {
   "cell_type": "code",
   "execution_count": null,
   "metadata": {},
   "outputs": [],
   "source": [
    "listeMitMehrerenElementen[-1]"
   ]
  },
  {
   "cell_type": "markdown",
   "execution_count": null,
   "metadata": {},
   "outputs": [],
   "source": [
    "Zudem können wir auf eine Teilliste zugreifen. Hier gilt wie bei der ``range``-Funktion, dass die letzte Zahl nicht inbegriffen ist."
   ]
  },
  {
   "cell_type": "code",
   "execution_count": null,
   "metadata": {},
   "outputs": [],
   "source": [
    "listeMitMehrerenElementen[1:3]"
   ]
  },
  {
   "cell_type": "markdown",
   "execution_count": null,
   "metadata": {},
   "outputs": [],
   "source": [
    "**Aufgabe**: Lege eine Liste mit 5 beliebigen Elementen an. Gib die Länge mit der ``len``-Funktion aus und greife auf die letzten beiden Elemente zu."
   ]
  },
  {
   "cell_type": "code",
   "execution_count": null,
   "metadata": {},
   "outputs": [],
   "source": []
  },
  {
   "cell_type": "markdown",
   "execution_count": null,
   "metadata": {},
   "outputs": [],
   "source": [
    "### Operatoren\n",
    "\n",
    "Ob ein Element in einer Liste vorhanden ist, lässt sich mit den Operatoren ``in`` und ``not in`` überprüfen."
   ]
  },
  {
   "cell_type": "code",
   "execution_count": null,
   "metadata": {},
   "outputs": [],
   "source": [
    "element = 3.0\n",
    "if element in listeMitMehrerenElementen:\n",
    "    print(f'{element} ist in Liste vorhanden')\n",
    "\n",
    "if element not in listeMitMehrerenElementen:\n",
    "    print(f'{element} ist in Liste nicht vorhanden')"
   ]
  },
  {
   "cell_type": "markdown",
   "execution_count": null,
   "metadata": {},
   "outputs": [],
   "source": [
    "Die Operatoren ``+`` und ``*`` können auch bei Listen verwendet werden. Der ``+``-Operator fügt zwei Listen zusammen, der ``*``-Operator vervielfältigt die Liste um die angegebene Anzahl."
   ]
  },
  {
   "cell_type": "code",
   "execution_count": null,
   "metadata": {},
   "outputs": [],
   "source": [
    "list1 = [1, 2]\n",
    "list2 = [3, 4]\n",
    "print(list1 + list2)\n",
    "print(list1 * 3)"
   ]
  },
  {
   "cell_type": "markdown",
   "execution_count": null,
   "metadata": {},
   "outputs": [],
   "source": [
    "### Hinzufügen und Entfernen von Elementen\n",
    "Mit ``append`` können wir Elemente am Ende der Liste hinzufügen."
   ]
  },
  {
   "cell_type": "code",
   "execution_count": null,
   "metadata": {},
   "outputs": [],
   "source": [
    "liste = [1, 2, 3, 4]\n",
    "print(liste)\n",
    "liste.append(5)\n",
    "print(liste)"
   ]
  },
  {
   "cell_type": "markdown",
   "execution_count": null,
   "metadata": {},
   "outputs": [],
   "source": [
    "Wenn wir ein Element nicht am Ende einfügen wollen, können wir die Funktion ``insert`` verwenden, die als erstes Argument den Abstand zum Anfangselement nimmt."
   ]
  },
  {
   "cell_type": "code",
   "execution_count": null,
   "metadata": {},
   "outputs": [],
   "source": [
    "liste = [1, 2, 3, 4]\n",
    "print(liste)\n",
    "liste.insert(1, 5)\n",
    "print(liste)"
   ]
  },
  {
   "cell_type": "markdown",
   "execution_count": null,
   "metadata": {},
   "outputs": [],
   "source": [
    "Mit ``pop`` können wir Elemente entfernen. Ohne Argument wird das letzte Element entfernt und zurückgegeben, wie bei ``insert`` kann aber auch der Abstand des zu entfernenden Elements angegeben werden."
   ]
  },
  {
   "cell_type": "code",
   "execution_count": null,
   "metadata": {},
   "outputs": [],
   "source": [
    "liste = [1, 2, 3, 4, 5]\n",
    "print(liste)\n",
    "liste.pop()\n",
    "print(liste)\n",
    "liste.pop(1)\n",
    "print(liste)"
   ]
  },
  {
   "cell_type": "markdown",
   "execution_count": null,
   "metadata": {},
   "outputs": [],
   "source": [
    "Mit ``remove`` können wir anstelle des Indexes den Wert des zu entfernenden Elementes angeben. Es wird das erste Element mit dem angegebenen Wert entfernt."
   ]
  },
  {
   "cell_type": "code",
   "execution_count": null,
   "metadata": {},
   "outputs": [],
   "source": [
    "liste = [1, 2, 1, 3, 1, 4]\n",
    "print(liste)\n",
    "liste.remove(3)\n",
    "print(liste)\n",
    "liste.remove(1)\n",
    "print(liste)"
   ]
  },
  {
   "cell_type": "markdown",
   "execution_count": null,
   "metadata": {},
   "outputs": [],
   "source": [
    "### Klassen und Objekte\n",
    "\n",
    "Wir definieren die Welt in **Objekten**, zum Beispiel Auto, Haus, Roboter, Stuhl, etc. Jedes dieser Objekte hat bestimmte Eigenschaften und Methoden. Ein Auto hat einen Motor, vier Räder, und ein  und man kann die Tür öffnen, die Kupplung bedienen oder das Licht einschalten. Diese Eigenschaften und Methoden fassen wir in einer **Klasse** zusamen. Jedes Auto auf der Straße ist eine **Instanz** dieser Klasse.\n"
   ]
  },
  {
   "cell_type": "code",
   "execution_count": null,
   "metadata": {},
   "outputs": [],
   "source": [
    "class Auto:\n",
    "    # Die __init__ Funktion wird beim Erstellen einer Instanz aufgerufen\n",
    "    def __init__(self, sitze, ps):\n",
    "        print ('__init__')\n",
    "        self.sitze = sitze\n",
    "        self.ps = ps\n",
    "        self.tuerOffen = False\n",
    "\n",
    "    def oeffneTuer(self):\n",
    "        self.tuerOffen = True\n",
    "    \n",
    "    def schließeTuer(self):\n",
    "        self.tuerOffen = False\n",
    "\n",
    "    def klappeBankUm(self, sitze):\n",
    "        self.sitze -= sitze\n",
    "    \n",
    "    def getSitze(self):\n",
    "        return self.sitze\n",
    "\n",
    "rotesAuto = Auto(5, 87)\n",
    "gelbesAuto = Auto(4, 180)"
   ]
  },
  {
   "cell_type": "code",
   "execution_count": null,
   "metadata": {},
   "outputs": [],
   "source": [
    "rotesAuto.oeffneTuer()\n",
    "if rotesAuto.tuerOffen:\n",
    "    print('Die Tür ist offen')\n",
    "else:\n",
    "    print('Die Tür ist geschlossen')"
   ]
  },
  {
   "cell_type": "code",
   "execution_count": null,
   "metadata": {},
   "outputs": [],
   "source": [
    "print(f'Das rote Auto hat {rotesAuto.getSitze()} Sitze')\n",
    "print(f'Das gelbe Auto hat {gelbesAuto.getSitze()} Sitze')\n",
    "\n",
    "rotesAuto.klappeBankUm(3)\n",
    "\n",
    "print(f'Das rote Auto hat {rotesAuto.getSitze()} Sitze')\n",
    "print(f'Das gelbe Auto hat {gelbesAuto.getSitze()} Sitze')"
   ]
  },
  {
   "cell_type": "markdown",
   "execution_count": null,
   "metadata": {},
   "outputs": [],
   "source": [
    "Das erste Argument jeder Klassenmethode ist der ``self``-Parameter. Dieser ist eine Referenz zu der aktuellen Instanz der Klasse und wird für den Zugriff auf Variablen und Methoden der Klasse verwendet."
   ]
  }
 ]
}