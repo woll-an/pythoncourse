{
 "nbformat": 4,
 "nbformat_minor": 2,
 "metadata": {
  "language_info": {
   "name": "python",
   "codemirror_mode": {
    "name": "ipython",
    "version": 3
   },
   "version": "3.7.6-final"
  },
  "orig_nbformat": 2,
  "file_extension": ".py",
  "mimetype": "text/x-python",
  "name": "python",
  "npconvert_exporter": "python",
  "pygments_lexer": "ipython3",
  "version": 3,
  "kernelspec": {
   "name": "python3",
   "display_name": "Python 3"
  }
 },
 "cells": [
  {
   "cell_type": "markdown",
   "execution_count": null,
   "metadata": {},
   "outputs": [],
   "source": [
    "# Grundlagen in Python\n",
    "\n",
    "Du siehst gerade vor dir ein sogenanntes **Jupyter Notebook**. Das ist ein Dokument, das ausführbaren Code, Visualisierungen und Erklärungen beinhaltet. Direkt unterhalb dieses Textes siehst du eine Zelle mit ausführbarem Code. Klicke zum Ausführen zuerst auf die Zelle und anschließend auf **Run** in der Toolleiste. Unterhalb der Zelle erscheinen anschließend die Worte ``Hello World!``. Du wirst dem ``print()``-Befehl noch oft begegnen. Er wird dazu verwendet etwas im Ausgabebereich anzuzeigen.\n"
   ]
  },
  {
   "cell_type": "code",
   "execution_count": null,
   "metadata": {},
   "outputs": [],
   "source": [
    "print('Hello World!')"
   ]
  },
  {
   "cell_type": "markdown",
   "execution_count": null,
   "metadata": {},
   "outputs": [],
   "source": [
    "**Aufgabe**: Ändere den ``print()``-Befehl in der folgenden Zelle, sodass ``Hallo <dein Name>`` ausgegeben wird."
   ]
  },
  {
   "cell_type": "code",
   "execution_count": null,
   "metadata": {},
   "outputs": [],
   "source": [
    "print('Hallo ')"
   ]
  },
  {
   "cell_type": "markdown",
   "execution_count": null,
   "metadata": {},
   "outputs": [],
   "source": [
    "Doch bevor wir tiefer in das Programmieren einsteigen, zunächst noch ein paar Worte über Python, die Programmiersprache die wir heute und in den folgenden Stunden verwenden werden. Warum gerade Python? Python eignet sich gut zum Einstieg in das Programmieren, da es eine Sprache mit einer relativ einfachen Syntax ist und dem Programmierer low-level Aufgaben wie die Speicherverwaltung weitestgehend abnimmt. Dennoch handelt es sich um eine mächtige Programmiersprache. Python ist plattformunabhängig. Das heißt es ist sehr einfach ein in Python geschriebenes Programm auch auf anderen Systemen (Windows, Linux, Macintosh, ...) auszuführen. Desweiteren ist Python open source und wird kontinuierlich von einer großen Community weiterentwickelt und verbessert.\n",
    "\n",
    "Python eignet sich unter anderem für\n",
    "\n",
    "* Automatisierung von Prozessen\n",
    "* Verarbeitung und Visualisierung von Daten\n",
    "* Backend für Webanwendungen\n",
    "* Maschinelles Lernen\n",
    "\n",
    "Doch Python hat auch seine Grenzen. Für Programme, bei denen Effizienz hinsichtlich der Laufzeit oder Speichernutzung vonnöten ist, werden andere Programmiersprachen wie C++ vorgezogen.\n",
    "\n",
    "Wir nutzen mit diesem Jupyter Notebook eine Pythoninstallation auf einem Server, auf die wir über den Browser zugreifen können. Es ist daher keine weitere Installation vonnöten.\n",
    "Wenn ihr Python auf euren Rechnern lokal nutzen wollt, müsst ihr es zunächst installieren, geht dazu auf [python.org](https://www.python.org/) und folgt den Anleitungen für euer Betriebssystem. Skripte für Python können in jedem beliebigen Editor geschrieben werden. Ich nutze beruflich und privat [Visual Studio Code](https://code.visualstudio.com/docs/python/python-tutorial)."
   ]
  },
  {
   "cell_type": "markdown",
   "execution_count": null,
   "metadata": {},
   "outputs": [],
   "source": [
    "## Kommentare\n",
    "\n",
    "Es ist möglich in Python Kommentare einzufügen. Kommentare werden bei der Ausführung des Programms ignoriert. Python erkennt dies am Symbol ``#``."
   ]
  },
  {
   "cell_type": "code",
   "execution_count": null,
   "metadata": {},
   "outputs": [],
   "source": [
    "print('Kein Kommentar')\n",
    "# print('Ein Kommentar)\n",
    "print('Kein Kommentar')\n",
    "# Ein Kommentar"
   ]
  },
  {
   "cell_type": "markdown",
   "execution_count": null,
   "metadata": {},
   "outputs": [],
   "source": [
    "## Errors\n",
    "\n",
    "Falls wir Code schreiben, den Python nicht versteht, erhalten wir bei der Ausführung der Zelle einen Fehler. Bei der folgenden Zelle sehen wir einen ``SyntaxError``.\n",
    "\n",
    "**Aufgabe**: Ändere den Code, sodass keine ``SyntaxError`` mehr ausgegeben wird."
   ]
  },
  {
   "cell_type": "code",
   "execution_count": null,
   "metadata": {},
   "outputs": [],
   "source": [
    "print(Kein Fehler)"
   ]
  },
  {
   "cell_type": "markdown",
   "execution_count": null,
   "metadata": {},
   "outputs": [],
   "source": [
    "## Datentypen\n",
    "\n",
    "Der Computer spricht eine andere Sprache als wir, auch wenn wir gerade mit ``Hello World!`` begrüßt wurden. Python hat uns geholfen diesen Satz in die Sprache des Computers zu übersetzen. \n",
    "Im Beispiel haben wir einen sogenannten String (``str``) ausgegeben. Neben diesem Datentyp kann Python uns Ganzzahlen (``int``), Gleitkommazahlen (``float``), Bool'sche Werte (``bool``) oder Listen (``list``) übersetzen. Python unterstützt noch weitere Datentypen, für diesen Kurs sind die obengenannten jedoch ausreichend. Schauen wir uns Beispiele für diese Datentypen an. Der ``type()``-Befehl gibt uns den Datentyp des Eingabewertes aus."
   ]
  },
  {
   "cell_type": "code",
   "execution_count": null,
   "metadata": {},
   "outputs": [],
   "source": [
    "type('Hello World!')"
   ]
  },
  {
   "cell_type": "code",
   "execution_count": null,
   "metadata": {},
   "outputs": [],
   "source": [
    "type(1)"
   ]
  },
  {
   "cell_type": "code",
   "execution_count": null,
   "metadata": {},
   "outputs": [],
   "source": [
    "type(1.1)"
   ]
  },
  {
   "cell_type": "code",
   "execution_count": null,
   "metadata": {},
   "outputs": [],
   "source": [
    "type(True)"
   ]
  },
  {
   "cell_type": "code",
   "execution_count": null,
   "metadata": {},
   "outputs": [],
   "source": [
    "type([])"
   ]
  },
  {
   "cell_type": "markdown",
   "execution_count": null,
   "metadata": {},
   "outputs": [],
   "source": [
    "## Operatoren\n",
    "\n",
    "### Arithmetische Operatoren\n",
    "\n",
    "Mithilfe von arithmetischen Operatoren können wir Berechnungen ausführen.\n",
    "\n",
    "* ``+`` Addition\n",
    "* ``-`` Subtraktion\n",
    "* ``*`` Multiplikation\n",
    "* ``/`` Division\n",
    "* ``//`` Division und Abrunden\n",
    "* ``**`` Exponent\n",
    "* ``%`` Modulus"
   ]
  },
  {
   "cell_type": "code",
   "execution_count": null,
   "metadata": {},
   "outputs": [],
   "source": [
    "4 + 3\n"
   ]
  },
  {
   "cell_type": "markdown",
   "execution_count": null,
   "metadata": {},
   "outputs": [],
   "source": [
    "### Relationale Operatoren\n",
    "\n",
    "Mithilfe von relationalen Operatoren können wir zwei Werte vergleichen.\n",
    "\n",
    "* ``<`` kleiner\n",
    "* ``>`` größer\n",
    "* ``<=`` kleiner gleich\n",
    "* ``>=`` größer gleich\n",
    "* ``==`` gleich\n",
    "* ``!=`` ungleich"
   ]
  },
  {
   "cell_type": "code",
   "execution_count": null,
   "metadata": {},
   "outputs": [],
   "source": [
    "4 < 3"
   ]
  },
  {
   "cell_type": "markdown",
   "execution_count": null,
   "metadata": {},
   "outputs": [],
   "source": [
    "### Logische Operatoren\n",
    "\n",
    "* ``and`` und\n",
    "* ``or`` oder\n",
    "* ``not`` nicht"
   ]
  },
  {
   "cell_type": "code",
   "execution_count": null,
   "metadata": {},
   "outputs": [],
   "source": [
    "not 3 < 4 and (3 == 3  or 4 == 1)"
   ]
  },
  {
   "cell_type": "markdown",
   "execution_count": null,
   "metadata": {},
   "outputs": [],
   "source": [
    "## Variablen\n",
    "\n",
    "Variablen dienen zur Zwischenspeicherung von Daten. In der folgenden Zelle speichern wir beispielsweise das Ergebnis der Operation ``3+4`` ab. Dieses kann dann später im Code wiederverwendet werden. In Python schreiben wir zur Zuweisung einer Variablen dessen Namen gefolgt von einem Gleichheitszeichen und den Daten, die wir zwischenspeichern möchten."
   ]
  },
  {
   "cell_type": "code",
   "execution_count": null,
   "metadata": {},
   "outputs": [],
   "source": [
    "x = 3 + 4\n",
    "print('Die Variable x hat den Wert', x)"
   ]
  },
  {
   "cell_type": "markdown",
   "execution_count": null,
   "metadata": {},
   "outputs": [],
   "source": [
    "**Aufgabe**: Ändere in der folgenden Zelle die Werte für ``m``, ``x`` und ``b`` und lass dir das Ergebnis anzeigen."
   ]
  },
  {
   "cell_type": "code",
   "execution_count": null,
   "metadata": {},
   "outputs": [],
   "source": [
    "x = 2\n",
    "b = 3\n",
    "m = 4\n",
    "y = m * x + b\n",
    "print('Die Variable y hat den Wert', y)"
   ]
  },
  {
   "cell_type": "markdown",
   "execution_count": null,
   "metadata": {},
   "outputs": [],
   "source": [
    "**Aufgabe**: Multipliziere zwei Zahlen und schreibe das Ergebnis in eine Variable mit dem Namen ``produkt``."
   ]
  },
  {
   "cell_type": "code",
   "execution_count": null,
   "metadata": {},
   "outputs": [],
   "source": [
    "produkt = 3*4"
   ]
  },
  {
   "cell_type": "markdown",
   "execution_count": null,
   "metadata": {},
   "outputs": [],
   "source": [
    "**Aufgabe**: Berechne den Rest aus der Division von 111 und 4 und schreibe das Ergebnis in eine Variable mit dem Namen ``rest``."
   ]
  },
  {
   "cell_type": "code",
   "execution_count": null,
   "metadata": {},
   "outputs": [],
   "source": []
  },
  {
   "cell_type": "markdown",
   "execution_count": null,
   "metadata": {},
   "outputs": [],
   "source": [
    "Der Wert einer Variablen kann zu jeder Zeit geändert werden."
   ]
  },
  {
   "cell_type": "code",
   "execution_count": null,
   "metadata": {},
   "outputs": [],
   "source": [
    "distanz = 10\n",
    "print('Bis zum Ziel sind es %s Meter ' % distanz)\n",
    "distanz -= 2\n",
    "print('Bis zum Ziel sind es %s Meter ' % distanz)\n",
    "distanz -= 1\n",
    "print('Bis zum Ziel sind es %s Meter ' % distanz)\n",
    "# füge hier deinen Code ein\n",
    "print('Bis zum Ziel sind es %s Meter ' % distanz)"
   ]
  },
  {
   "cell_type": "markdown",
   "execution_count": null,
   "metadata": {},
   "outputs": [],
   "source": [
    "**Aufgabe**: Addiere die Arbeitszeiten für Mittwoch, Donnerstag und Freitag zur Variablen ``arbeitszeit`` hinzu, sodass die Wochenarbeitszeit ausgegeben wird."
   ]
  },
  {
   "cell_type": "code",
   "execution_count": 8,
   "metadata": {},
   "outputs": [
    {
     "name": "stdout",
     "output_type": "stream",
     "text": "Die Wochenarbeitszeit beträgt 16.4 Stunden.\n"
    }
   ],
   "source": [
    "arbeitszeit = 0\n",
    "zeit_montag = 8.3\n",
    "arbeitszeit += zeit_montag\n",
    "zeit_dienstag = 8.1\n",
    "arbeitszeit += zeit_dienstag\n",
    "zeit_mittwoch = 8.7\n",
    "\n",
    "zeit_donnerstag = 8.0\n",
    "\n",
    "zeit_freitag = 6.9\n",
    "\n",
    "print('Die Wochenarbeitszeit beträgt %s Stunden.' % arbeitszeit)"
   ]
  },
  {
   "cell_type": "code",
   "execution_count": null,
   "metadata": {},
   "outputs": [],
   "source": []
  }
 ]
}