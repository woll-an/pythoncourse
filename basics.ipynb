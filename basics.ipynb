{
 "nbformat": 4,
 "nbformat_minor": 2,
 "metadata": {
  "language_info": {
   "name": "python",
   "codemirror_mode": {
    "name": "ipython",
    "version": 3
   },
   "version": "3.6.8-final"
  },
  "orig_nbformat": 2,
  "file_extension": ".py",
  "mimetype": "text/x-python",
  "name": "python",
  "npconvert_exporter": "python",
  "pygments_lexer": "ipython3",
  "version": 3,
  "kernelspec": {
   "name": "python3",
   "display_name": "Python 3"
  }
 },
 "cells": [
  {
   "cell_type": "markdown",
   "execution_count": null,
   "metadata": {},
   "outputs": [],
   "source": [
    "# Grundlagen in Python\n",
    "\n",
    "Du siehst gerade vor dir ein sogenanntes **Jupyter Notebook**. Das ist ein Dokument, das ausführbaren Code, Visualisierungen und Erklärungen beinhaltet. Direkt unterhalb dieses Textes siehst du eine Zelle mit ausführbarem Code. Drücke zum Ausführen auf den Playbutton neben der Zelle. Unterhalb der Zelle erscheinen anschließend die Worte ``Hello World!``. Du wirst dem ``print()``-Befehl noch oft begegnen. Er wird dazu verwendet etwas im Ausgabebereich anzuzeigen.\n"
   ]
  },
  {
   "cell_type": "code",
   "execution_count": 11,
   "metadata": {},
   "outputs": [
    {
     "name": "stdout",
     "output_type": "stream",
     "text": "Hello World!\n"
    }
   ],
   "source": [
    "print('Hello World!')"
   ]
  },
  {
   "cell_type": "markdown",
   "execution_count": null,
   "metadata": {},
   "outputs": [],
   "source": [
    "Doch bevor wir tiefer in das Programmieren einsteigen, zunächst noch ein paar Worte über Python, die Programmiersprache die wir heute und in den folgenden Stunden verwenden werden. Warum gerade Python? Python eignet sich gut zum Einstieg in das Programmieren, da es eine Sprache mit einer relativ einfachen Syntax ist und dem Programmierer low-level Aufgaben wie die Speicherverwaltung weitestgehend abnimmt. Dennoch handelt es sich um eine mächtige Programmiersprache. Python ist plattformunabhängig. Das heißt es ist sehr einfach ein in Python geschriebenes Programm auch auf anderen Systemen (Windows, Linux, Macintosh, ...) auszuführen. Desweiteren ist Python open source und wird kontinuierlich von einer großen Community weiterentwickelt und verbessert.\n",
    "\n",
    "Python eignet sich unter anderem für\n",
    "\n",
    "* Automatisierung von Prozessen\n",
    "* Verarbeitung und Visualisierung von Daten\n",
    "* Backend für Webanwendungen\n",
    "* Maschinelles Lernen\n",
    "\n",
    "Doch Python hat auch seine Grenzen. Für Programme, bei denen Effizienz hinsichtlich der Laufzeit oder Speichernutzung vonnöten ist, werden andere Programmiersprachen wie C++ vorgezogen."
   ]
  },
  {
   "cell_type": "markdown",
   "execution_count": null,
   "metadata": {},
   "outputs": [],
   "source": [
    "## Datentypen\n",
    "\n",
    "Der Computer spricht eine andere Sprache als wir, auch wenn wir gerade mit ``Hello World!`` begrüßt wurden. Python hat uns geholfen diesen Satz in die Sprache des Computers zu übersetzen. \n",
    "Im Beispiel haben wir einen sogenannten String (``str``) ausgegeben. Neben diesem Datentyp kann Python uns Ganzzahlen (``int``), Gleitkommazahlen (``float``), Bool'sche Werte (``bool``) oder Listen (``list``) übersetzen. Python unterstützt noch weitere Datentypen, für diesen Kurs sind die obengenannten jedoch ausreichend. Schauen wir uns Beispiele für diese Datentypen an. Der ``type()``-Befehl gibt uns den Datentyp des Eingabewertes aus."
   ]
  },
  {
   "cell_type": "code",
   "execution_count": 5,
   "metadata": {},
   "outputs": [
    {
     "data": {
      "text/plain": "str"
     },
     "execution_count": 5,
     "metadata": {},
     "output_type": "execute_result"
    }
   ],
   "source": [
    "type('Hello World!')"
   ]
  },
  {
   "cell_type": "code",
   "execution_count": 7,
   "metadata": {},
   "outputs": [
    {
     "data": {
      "text/plain": "int"
     },
     "execution_count": 7,
     "metadata": {},
     "output_type": "execute_result"
    }
   ],
   "source": [
    "type(1)"
   ]
  },
  {
   "cell_type": "code",
   "execution_count": 8,
   "metadata": {},
   "outputs": [
    {
     "data": {
      "text/plain": "float"
     },
     "execution_count": 8,
     "metadata": {},
     "output_type": "execute_result"
    }
   ],
   "source": [
    "type(1.1)"
   ]
  },
  {
   "cell_type": "code",
   "execution_count": 10,
   "metadata": {},
   "outputs": [
    {
     "data": {
      "text/plain": "bool"
     },
     "execution_count": 10,
     "metadata": {},
     "output_type": "execute_result"
    }
   ],
   "source": [
    "type(True)"
   ]
  },
  {
   "cell_type": "code",
   "execution_count": 9,
   "metadata": {},
   "outputs": [
    {
     "data": {
      "text/plain": "list"
     },
     "execution_count": 9,
     "metadata": {},
     "output_type": "execute_result"
    }
   ],
   "source": [
    "type([])"
   ]
  },
  {
   "cell_type": "markdown",
   "execution_count": null,
   "metadata": {},
   "outputs": [],
   "source": [
    "## Operatoren\n",
    "\n",
    "### Arithmetische Operatoren\n",
    "\n",
    "Mithilfe von arithmetischen Operatoren können wir Berechnungen ausführen.\n",
    "\n",
    "* ``+`` Addition\n",
    "* ``-`` Subtraktion\n",
    "* ``*`` Multiplikation\n",
    "* ``/`` Division\n",
    "* ``**`` Exponent\n",
    "* ``%`` Modulus\n",
    "\n",
    "### Relationale Operatoren\n",
    "\n",
    "* ``<`` kleiner\n",
    "* ``>`` größer\n",
    "* ``<=`` kleiner gleich\n",
    "* ``>=`` größer gleich\n",
    "* ``==`` gleich\n",
    "* ``!=`` ungleich\n",
    "\n",
    "### Logische Operatoren\n",
    "\n",
    "* ``and`` und\n",
    "* ``or``\n",
    "* ``not``"
   ]
  },
  {
   "cell_type": "code",
   "execution_count": 25,
   "metadata": {},
   "outputs": [
    {
     "name": "stdout",
     "output_type": "stream",
     "text": "7\n-1\n12\n0.75\n64\n1\n"
    }
   ],
   "source": [
    "print(4+3)\n",
    "print(3-4)\n",
    "print(4*3)\n",
    "print(3/4)\n",
    "print(4**3)\n",
    "print(4%3)"
   ]
  },
  {
   "cell_type": "code",
   "execution_count": 26,
   "metadata": {},
   "outputs": [
    {
     "name": "stdout",
     "output_type": "stream",
     "text": "False\nTrue\nFalse\nTrue\nFalse\nFalse\nTrue\n"
    }
   ],
   "source": [
    "print(4<3)\n",
    "print(4>3)\n",
    "print(3<3)\n",
    "print(3<=3)\n",
    "print(2>=4)\n",
    "print(4==3)\n",
    "print(4!=3)"
   ]
  },
  {
   "cell_type": "code",
   "execution_count": 28,
   "metadata": {},
   "outputs": [
    {
     "name": "stdout",
     "output_type": "stream",
     "text": "False\nFalse\nTrue\n"
    }
   ],
   "source": [
    "print(not 3<4)\n",
    "print(3==3  and 4==1)\n",
    "print(3==3  or 4==1)"
   ]
  },
  {
   "cell_type": "code",
   "execution_count": null,
   "metadata": {},
   "outputs": [],
   "source": []
  }
 ]
}