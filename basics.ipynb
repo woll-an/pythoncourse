{
 "nbformat": 4,
 "nbformat_minor": 2,
 "metadata": {
  "language_info": {
   "name": "python",
   "codemirror_mode": {
    "name": "ipython",
    "version": 3
   },
   "version": "3.6.8-final"
  },
  "orig_nbformat": 2,
  "file_extension": ".py",
  "mimetype": "text/x-python",
  "name": "python",
  "npconvert_exporter": "python",
  "pygments_lexer": "ipython3",
  "version": 3,
  "kernelspec": {
   "name": "python3",
   "display_name": "Python 3"
  }
 },
 "cells": [
  {
   "cell_type": "markdown",
   "execution_count": null,
   "metadata": {},
   "outputs": [],
   "source": [
    "# Grundlagen in Python\n",
    "\n",
    "Du siehst gerade vor dir ein sogenanntes **Jupyter Notebook**. Das ist ein Dokument, das ausführbaren Code, Visualisierungen und Erklärungen beinhaltet. Direkt unterhalb dieses Textes siehst du eine Zelle mit ausführbarem Code. Klicke zum Ausführen zuerst auf die Zelle und anschließend auf **Run** in der Toolleiste. Unterhalb der Zelle erscheinen anschließend die Worte ``Hello World!``. Du wirst dem ``print()``-Befehl noch oft begegnen. Er wird dazu verwendet etwas im Ausgabebereich anzuzeigen.\n"
   ]
  },
  {
   "cell_type": "code",
   "execution_count": null,
   "metadata": {},
   "outputs": [],
   "source": [
    "print('Hello World!')"
   ]
  },
  {
   "cell_type": "markdown",
   "execution_count": null,
   "metadata": {},
   "outputs": [],
   "source": [
    "Doch bevor wir tiefer in das Programmieren einsteigen, zunächst noch ein paar Worte über Python, die Programmiersprache die wir heute und in den folgenden Stunden verwenden werden. Warum gerade Python? Python eignet sich gut zum Einstieg in das Programmieren, da es eine Sprache mit einer relativ einfachen Syntax ist und dem Programmierer low-level Aufgaben wie die Speicherverwaltung weitestgehend abnimmt. Dennoch handelt es sich um eine mächtige Programmiersprache. Python ist plattformunabhängig. Das heißt es ist sehr einfach ein in Python geschriebenes Programm auch auf anderen Systemen (Windows, Linux, Macintosh, ...) auszuführen. Desweiteren ist Python open source und wird kontinuierlich von einer großen Community weiterentwickelt und verbessert.\n",
    "\n",
    "Python eignet sich unter anderem für\n",
    "\n",
    "* Automatisierung von Prozessen\n",
    "* Verarbeitung und Visualisierung von Daten\n",
    "* Backend für Webanwendungen\n",
    "* Maschinelles Lernen\n",
    "\n",
    "Doch Python hat auch seine Grenzen. Für Programme, bei denen Effizienz hinsichtlich der Laufzeit oder Speichernutzung vonnöten ist, werden andere Programmiersprachen wie C++ vorgezogen."
   ]
  },
  {
   "cell_type": "markdown",
   "execution_count": null,
   "metadata": {},
   "outputs": [],
   "source": [
    "## Kommentare\n",
    "\n",
    "Es ist möglich in Python Kommentare einzufügen. Kommentare werden bei der Ausführung des Programms ignoriert. Python erkennt dies am Symbol ``#``."
   ]
  },
  {
   "cell_type": "code",
   "execution_count": null,
   "metadata": {},
   "outputs": [],
   "source": [
    "print('Kein Kommentar')\n",
    "# print('Ein Kommentar)\n",
    "print('Kein Kommentar')\n",
    "# Ein Kommentar"
   ]
  },
  {
   "cell_type": "markdown",
   "execution_count": null,
   "metadata": {},
   "outputs": [],
   "source": [
    "## Datentypen\n",
    "\n",
    "Der Computer spricht eine andere Sprache als wir, auch wenn wir gerade mit ``Hello World!`` begrüßt wurden. Python hat uns geholfen diesen Satz in die Sprache des Computers zu übersetzen. \n",
    "Im Beispiel haben wir einen sogenannten String (``str``) ausgegeben. Neben diesem Datentyp kann Python uns Ganzzahlen (``int``), Gleitkommazahlen (``float``), Bool'sche Werte (``bool``) oder Listen (``list``) übersetzen. Python unterstützt noch weitere Datentypen, für diesen Kurs sind die obengenannten jedoch ausreichend. Schauen wir uns Beispiele für diese Datentypen an. Der ``type()``-Befehl gibt uns den Datentyp des Eingabewertes aus."
   ]
  },
  {
   "cell_type": "code",
   "execution_count": null,
   "metadata": {},
   "outputs": [],
   "source": [
    "type('Hello World!')"
   ]
  },
  {
   "cell_type": "code",
   "execution_count": null,
   "metadata": {},
   "outputs": [],
   "source": [
    "type(1)"
   ]
  },
  {
   "cell_type": "code",
   "execution_count": null,
   "metadata": {},
   "outputs": [],
   "source": [
    "type(1.1)"
   ]
  },
  {
   "cell_type": "code",
   "execution_count": null,
   "metadata": {},
   "outputs": [],
   "source": [
    "type(True)"
   ]
  },
  {
   "cell_type": "code",
   "execution_count": null,
   "metadata": {},
   "outputs": [],
   "source": [
    "type([])"
   ]
  },
  {
   "cell_type": "markdown",
   "execution_count": null,
   "metadata": {},
   "outputs": [],
   "source": [
    "## Operatoren\n",
    "\n",
    "### Arithmetische Operatoren\n",
    "\n",
    "Mithilfe von arithmetischen Operatoren können wir Berechnungen ausführen.\n",
    "\n",
    "* ``+`` Addition\n",
    "* ``-`` Subtraktion\n",
    "* ``*`` Multiplikation\n",
    "* ``/`` Division\n",
    "* ``//`` Division und Abrunden\n",
    "* ``**`` Exponent\n",
    "* ``%`` Modulus\n",
    "\n",
    "Füge in der folgenden Zelle für jeden Operator eine Beispieloperation hinzu, die du mit dem ``print()``-Befehl ausgibst."
   ]
  },
  {
   "cell_type": "code",
   "execution_count": null,
   "metadata": {},
   "outputs": [],
   "source": [
    "print(4+3)\n",
    "print() # Füge zwischen den Klammern deine Operation ein\n"
   ]
  },
  {
   "cell_type": "markdown",
   "execution_count": null,
   "metadata": {},
   "outputs": [],
   "source": [
    "### Relationale Operatoren\n",
    "\n",
    "Mithilfe von relationalen Operatoren können wir zwei Werte vergleichen.\n",
    "\n",
    "* ``<`` kleiner\n",
    "* ``>`` größer\n",
    "* ``<=`` kleiner gleich\n",
    "* ``>=`` größer gleich\n",
    "* ``==`` gleich\n",
    "* ``!=`` ungleich\n",
    "\n",
    "Füge in der folgenden Zelle für jeden Operator eine Beispieloperation hinzu, die du mit dem ``print()``-Befehl ausgibst."
   ]
  },
  {
   "cell_type": "code",
   "execution_count": null,
   "metadata": {},
   "outputs": [],
   "source": [
    "print(4<3)\n",
    "print() # Füge zwischen den Klammern deine Operation ein"
   ]
  },
  {
   "cell_type": "markdown",
   "execution_count": null,
   "metadata": {},
   "outputs": [],
   "source": [
    "### Logische Operatoren\n",
    "\n",
    "* ``and`` und\n",
    "* ``or`` oder\n",
    "* ``not`` nicht\n",
    "\n",
    "Füge in der folgenden Zelle für jeden Operator eine Beispieloperation hinzu, die du mit dem ``print()``-Befehl ausgibst."
   ]
  },
  {
   "cell_type": "code",
   "execution_count": null,
   "metadata": {},
   "outputs": [],
   "source": [
    "print(not 3<4 and (3==3  or 4==1))\n",
    "print() # Füge zwischen den Klammern deine Operation ein"
   ]
  },
  {
   "cell_type": "markdown",
   "execution_count": null,
   "metadata": {},
   "outputs": [],
   "source": [
    "## Variablen\n",
    "\n",
    "Variablen können wir uns als Boxen vorstellen, in die wir Werte hineinlegen. Je nach Datentyp haben die Boxen unterschiedliche Größen. Wollen wir uns beispielsweise das Ergebnis der Operation ``3+4`` abspeichern, so nehmen wir uns eine Box und beschriften sie mit ``x``."
   ]
  },
  {
   "cell_type": "code",
   "execution_count": null,
   "metadata": {},
   "outputs": [],
   "source": [
    "x = 3+4"
   ]
  }
 ]
}