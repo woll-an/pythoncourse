{
 "cells": [
  {
   "cell_type": "markdown",
   "execution_count": null,
   "metadata": {},
   "outputs": [],
   "source": [
    "# Mobile Roboter\n",
    "\n",
    "Mobile Roboter unterscheiden sich von anderen Robotern durch die Fähigkeit sich fortzubewegen.\n",
    "\n",
    "## Arten der Fortbewegung\n",
    "\n",
    "### Rollend\n",
    "\n",
    "<img src=\"images/warehouse.gif\" width=\"400\">\n",
    "\n",
    "Quelle: https://money.cnn.com/\n",
    "\n",
    "<img src=\"images/curiosity.gif\" width=\"400\">\n",
    "\n",
    "Quelle: https://www.nationalgeographic.com/\n",
    "\n",
    "<img src=\"images/roomba.gif\" width=\"400\">\n",
    "\n",
    "Quelle: https://www.bbc.com/\n",
    "\n",
    "### Laufend\n",
    "\n",
    "<img src=\"images/spot.gif\" width=\"400\">\n",
    "\n",
    "Quelle: https://www.bostondynamics.com/\n",
    "\n",
    "<img src=\"images/atlas.gif\" width=\"400\">\n",
    "\n",
    "Quelle: https://www.bostondynamics.com/\n",
    "\n",
    "### Fliegend\n",
    "\n",
    "<img src=\"images/amazon.gif\" width=\"400\">\n",
    "\n",
    "Quelle: https://www.amazon.com/Amazon-Prime-Air\n",
    "\n",
    "### Schwimmend\n",
    "\n",
    "<img src=\"images/festo.gif\" width=\"400\">\n",
    "\n",
    "Quelle: https://www.festo.com/"
   ]
  },
  {
   "cell_type": "markdown",
   "execution_count": null,
   "metadata": {},
   "outputs": [],
   "source": [
    "## Der Zustand\n",
    "\n",
    "Im folgenden werden wir einen 2D mobilen Roboter programmieren, der sich in seiner eigenen 2D Welt fortbewegt. Diese Welt ist zunächst leer. Sie hat eine Breite x und eine Höhe y. Ihr könnt sie euch wie eine große leere Fläche vorstellen, auf der sich der Roboter bewegen wird.\n"
   ]
  },
  {
   "cell_type": "code",
   "execution_count": null,
   "metadata": {},
   "outputs": [],
   "source": [
    "# Imports\n",
    "import sys\n",
    "sys.path.append('mobilerobot')\n",
    "from world import World\n",
    "from robot import Robot\n",
    "%matplotlib notebook"
   ]
  },
  {
   "cell_type": "code",
   "execution_count": null,
   "metadata": {},
   "outputs": [],
   "source": [
    "world = World(x=100, y=100)\n",
    "world.showScene()"
   ]
  },
  {
   "cell_type": "markdown",
   "execution_count": null,
   "metadata": {},
   "outputs": [],
   "source": [
    "Dieser Welt können wir nun einen Roboter hinzufügen, indem wir bei der Instanzierung eine Liste mit Roboterobjekten (``robots``) übergeben. Diese Liste erhält zunächst nur einen einzelnen Wert."
   ]
  },
  {
   "cell_type": "code",
   "execution_count": null,
   "metadata": {},
   "outputs": [],
   "source": [
    "robot = Robot(radius=3)\n",
    "\n",
    "world = SimpleWorld(x=100, y=100, robots=[robot])\n",
    "world.showScene()"
   ]
  },
  {
   "cell_type": "markdown",
   "execution_count": null,
   "metadata": {},
   "outputs": [],
   "source": [
    "Durch drei Parameter können wir den Zustand des Roboters in der Welt beschreiben. Zwei Parameter beschreiben die Position (``x`` und ``y``) und einer beschreibt die Rotation des Roboters (``theta``). Ist ``theta`` 0, so ist der Roboter nach oben ausgerichtet. Bei 90 nach links, bei 180 nach unten und bei -90 nach rechts. Zu jedem dieser Werte können wir 360 hinzu- oder abziehen, ohne dass sich der Zustand des Roboters ändert. Es ist also egal, ob wir -90 oder 270 schreiben, in beiden Fällen zeigt der Roboter nach rechts.\n",
    "\n",
    "Der Roboter ist ganz klein in der linken unteren Ecke zu erkennen. Das liegt daran, dass bei der Initialisierung die Werte für ``x``, ``y`` und ``theta`` 0 sind.\n",
    "\n",
    "**Aufgabe**: Ändere den Zustand des Roboters durch Modifizierung der Zustandsparamter in der ``setState``-Funktion."
   ]
  },
  {
   "cell_type": "code",
   "execution_count": null,
   "metadata": {},
   "outputs": [],
   "source": [
    "robot = Robot(radius=3)\n",
    "\n",
    "robot.setState(x=50, y=50, theta=-90)\n",
    "\n",
    "world = SimpleWorld(x=100, y=100, robots=[robot])\n",
    "world.showScene()"
   ]
  },
  {
   "cell_type": "markdown",
   "execution_count": null,
   "metadata": {},
   "outputs": [],
   "source": [
    "Für die Beschreibung der dreidimensionalen Welt benötigen wir sechs Parameter. Diese sind ``x``, ``y`` und ``z`` sowie drei Orientierungswinkel ``alpha``, ``beta`` und ``gamma``."
   ]
  },
  {
   "cell_type": "markdown",
   "execution_count": null,
   "metadata": {},
   "outputs": [],
   "source": [
    "Damit sich der Roboter fortbewegt müssen wir eine Zustandsveränderung herbeiführen. Die ``Robot``-Klasse hat dafür drei Funktionen. Diese sind ``moveForward(distance)``, ``rotateRight(angle)`` und ``rotateLeft(angle)``. In der folgenden Zelle wird die Funktion ``move`` ``robot.controller`` zugewiesen. Wenn die Animation gestartet wird, wird in jedem Frame diese Funktion einmal ausgeführt. So können wir bewirken, dass sich der Roboter kontinuierlich fortbewegt."
   ]
  },
  {
   "cell_type": "code",
   "execution_count": null,
   "metadata": {},
   "outputs": [],
   "source": [
    "robot = Robot(radius=3)\n",
    "robot.setState(x=50, y=70, theta=200)\n",
    "\n",
    "def move(self):\n",
    "    self.moveForward(0.01)\n",
    "\n",
    "robot.controller = move\n",
    "\n",
    "world = SimpleWorld(x=100, y=100, robots=[robot])\n",
    "anim = world.initAnimation()"
   ]
  },
  {
   "cell_type": "markdown",
   "execution_count": null,
   "metadata": {},
   "outputs": [],
   "source": [
    "Im Ordner ``exercises`` findet iht verschiedene Aufgaben. In der ersten Aufgabe wird eine Welt mit drei Robotern generiert. Jedem dieser Roboter wird eine ``move`` Funktion als ``controller`` zugewiesen. Deine Aufgabe ist es, diese ``move`` Funktionen zu füllen, sodass sich einer der Roboter nach vorne bewegt, einer nach links dreht und einer nach rechts dreht.\n",
    "\n",
    "**Aufgabe**: Löse ``exercise01.py``"
   ]
  },
  {
   "cell_type": "markdown",
   "execution_count": null,
   "metadata": {},
   "outputs": [],
   "source": [
    "## Bewegung zu einem Ziel\n",
    "\n",
    "Wir haben gelernt, wie wir die Roboter in der Welt bewegen können. Doch bisher steuern die Roboter noch kein Ziel an. Dafür verändern wir die Welt etwas und führen eine Lichtquelle ein, die das Ziel der Roboter darstellt."
   ]
  },
  {
   "cell_type": "code",
   "execution_count": null,
   "metadata": {},
   "outputs": [],
   "source": [
    "from light import Light\n",
    "from world import LightWorld\n",
    "\n",
    "l = Light(x=20, y=30)\n",
    "\n",
    "world = LightWorld(x=100, y=100, robots=[], light=l)\n",
    "\n",
    "world.showScene()"
   ]
  },
  {
   "cell_type": "markdown",
   "execution_count": null,
   "metadata": {},
   "outputs": [],
   "source": [
    "Zusätzlich statten wir die Roboter mit zwei Lichtsensoren aus. Diese werden rechts und links am Roboter befestigt. Mit der Funktion ``lightMesurement`` können wir die Werte auslesen.\n",
    "\n",
    "**Aufgabe**: Modifiziere den anfänglichen Zustand des Roboters und beobachte, wie sich die Messungen der Sensoren verhalten."
   ]
  },
  {
   "cell_type": "code",
   "execution_count": null,
   "metadata": {},
   "outputs": [],
   "source": [
    "r = Robot(radius=3)\n",
    "r.setState(x=50, y=70, theta=180)\n",
    "\n",
    "rm, lm = r.lightMeasurement(l)\n",
    "\n",
    "print(f'Sensor rechts: {rm:.2f}, Sensor links {lm:.2f}')\n",
    "\n",
    "world = LightWorld(x=100, y=100, robots=[r], light=l)\n",
    "\n",
    "world.showScene()"
   ]
  },
  {
   "cell_type": "markdown",
   "execution_count": null,
   "metadata": {},
   "outputs": [],
   "source": [
    "Die Messwerte wollen wir nun dazu nutzen, den Roboter zu seinem Ziel zu navigieren. Die Funktion, mit der wir den Roboter steuern hat nun nicht mehr nur den Roboter selber als Parameter, sondern zudem die Messwerte der zwei Sensoren des Roboters.\n",
    "In ``exercise02.py`` sollst du diese Funktion nun so modifizieren, dass der Roboter sich zu der Lichtquelle hinbewegt und dort stehen bleibt. Ändere die Funktion dazu zunächst so um, dass sich der Roboter zum Licht dreht. Reagiere dazu auf den Unterschied der beiden Messwerte. Bewege den Roboter anschließend vorwärts, sodass er langsamer wird, je näher er der Lichtquelle kommt. Nutze dazu die Summe der beiden Messwerte. Wenn der Roboter das Ziel erreicht hat, beträgt die Summe 1.0.\n",
    "\n",
    "**Aufgabe**: Löse ``exercise02.py``"
   ]
  },
  {
   "cell_type": "code",
   "execution_count": null,
   "metadata": {},
   "outputs": [],
   "source": [
    "def move(robot, rightMeasurement, leftMeasurement):\n",
    "    pass\n",
    "    \n",
    "r.controller = move"
   ]
  },
  {
   "cell_type": "markdown",
   "execution_count": null,
   "metadata": {},
   "outputs": [],
   "source": [
    "## Hindernisse umfahren\n",
    "\n",
    "Normalerweise hat ein mobiler Roboter nicht so viel Platz um sich fortzubewegen. In der realen Welt gibt es Hindernisse, die umfahren werden müssen. In der folgenden Zelle wird eine Welt generiert, in der sich in der Mitte ein riesiger Graben befindet, den der Roboter umfahren muss."
   ]
  },
  {
   "cell_type": "code",
   "execution_count": null,
   "metadata": {},
   "outputs": [],
   "source": [
    "from obstacle import Obstacle\n",
    "from world import LightObstacleWorld\n",
    "\n",
    "o = Obstacle(20, 40, 60, 20)\n",
    "\n",
    "world = LightObstacleWorld(x=100, y=100, robots=[], light=l, obstacles=[o])\n",
    "world.showScene()"
   ]
  },
  {
   "cell_type": "markdown",
   "execution_count": null,
   "metadata": {},
   "outputs": [],
   "source": [
    "In ``exercise03.py`` ist es deine Aufgabe, diesen Graben zu umfahren und zum Ziel - der Lichtquelle - zu gelangen. Der Roboter reagiert weiterhin auf die Lichtsensoren. Zusätzlich hat einen Sensor an seiner Spitze, mit dem er das Hindernis in unmittelbarer Nähe erkennt. Bekommt der Roboter einen Fahrbefehl, den er nicht ausführen kann, so bleibt er einfach stehen. Der Rückgabewert des Fahrbefehls ist dann ``False``.\n",
    "\n",
    "**Aufgabe**: Löse ``exercise04.py``"
   ]
  },
  {
   "cell_type": "code",
   "execution_count": null,
   "metadata": {},
   "outputs": [],
   "source": [
    "r = Robot(radius=3)\n",
    "r.setState(x=50, y=80, theta=180)\n",
    "\n",
    "o = Obstacle(20, 40, 60, 20)\n",
    "l = Light(x=50, y=20)\n",
    "\n",
    "def move(robot, rightMeasurement, leftMeasurement):\n",
    "    free = robot.moveForward(0.01)\n",
    "    if not free:\n",
    "        robot.rotateLeft(180)\n",
    "    \n",
    "r.controller = move\n",
    "\n",
    "world = LightObstacleWorld(x=100, y=100, robots=[r], light=l, obstacles=[o])\n",
    "anim = world.initAnimation()"
   ]
  },
  {
   "cell_type": "markdown",
   "execution_count": null,
   "metadata": {},
   "outputs": [],
   "source": [
    "**Bonus**: Schaffst du es auch das Hindernis in ``exercise04.py`` zu umfahren?"
   ]
  },
  {
   "cell_type": "code",
   "execution_count": null,
   "metadata": {},
   "outputs": [],
   "source": [
    "r = Robot(radius=3)\n",
    "r.setState(x=50, y=80, theta=180)\n",
    "\n",
    "o1 = Obstacle(20, 40, 60, 10)\n",
    "o2 = Obstacle(20, 40, 10, 30)\n",
    "o3 = Obstacle(70, 40, 10, 30)\n",
    "\n",
    "world = LightObstacleWorld(x=100, y=100, robots=[r], light=l, obstacles=[o1, o2, o3])\n",
    "world.showScene()"
   ]
  }
 ],
 "metadata": {
  "file_extension": ".py",
  "kernelspec": {
   "display_name": "Python 3",
   "language": "python",
   "name": "python3"
  },
  "language_info": {
   "codemirror_mode": {
    "name": "ipython",
    "version": 3
   },
   "file_extension": ".py",
   "mimetype": "text/x-python",
   "name": "python",
   "nbconvert_exporter": "python",
   "pygments_lexer": "ipython3",
   "version": "3.7.6"
  },
  "mimetype": "text/x-python",
  "name": "python",
  "npconvert_exporter": "python",
  "pygments_lexer": "ipython3",
  "version": 3
 },
 "nbformat": 4,
 "nbformat_minor": 2
}