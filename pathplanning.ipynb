{
 "nbformat": 4,
 "nbformat_minor": 2,
 "metadata": {
  "language_info": {
   "name": "python",
   "codemirror_mode": {
    "name": "ipython",
    "version": 3
   },
   "version": "3.7.6-final"
  },
  "orig_nbformat": 2,
  "file_extension": ".py",
  "mimetype": "text/x-python",
  "name": "python",
  "npconvert_exporter": "python",
  "pygments_lexer": "ipython3",
  "version": 3,
  "kernelspec": {
   "name": "python37664bitda229d34b080410e89c7379c26227f2f",
   "display_name": "Python 3.7.6 64-bit"
  }
 },
 "cells": [
  {
   "cell_type": "markdown",
   "execution_count": null,
   "metadata": {},
   "outputs": [],
   "source": [
    "# Pfadplanung\n",
    "\n",
    "Bisher haben wir einen \"brainless\" Roboter erschaffen, der nur auf unmittelbare Sensormessungen reagieren kann. Wenn jedoch der Zustand des Roboter und der Arbeitsraum bekannt sind, können wir den besten Pfad des Roboters im Voraus planen. Dazu zerlegen wir den Arbeitsraum zunächst in definierte Punkte, die der Roboter ansteuern kann. Eine einfache Methode, ist es, ein Raster über den gesamten Arbeitsraum zu legen. Im folgenden Beispiel werden wir eine Welt mir einer Größe von 50 x 50 erstellen. Wir werden ein Raster mit einer AUflösung von 1 nutzen, das heißt die Welt hat 2500 Rasterpunkte.\n",
    "\n",
    "## Der freie Arbeitsraum\n",
    "\n",
    "Wir wollen den freien Arbeitsraum für unsere Welt darstellen. Dazu erstellen wir zunächst die Welt in der Größe 50 x 50, fügen die Hindernisse hinzu und definieren Start und Endpunkt. "
   ]
  },
  {
   "cell_type": "code",
   "execution_count": null,
   "metadata": {},
   "outputs": [],
   "source": [
    "#imports\n",
    "\n",
    "import sys\n",
    "sys.path.append('mobilerobot')\n",
    "import numpy as np\n",
    "from world import SpaceWorld\n",
    "from obstacle import Obstacle"
   ]
  },
  {
   "cell_type": "code",
   "execution_count": null,
   "metadata": {},
   "outputs": [],
   "source": [
    "# initialize world\n",
    "o1 = Obstacle(10, 20, 30, 5)\n",
    "o2 = Obstacle(10, 20, 5, 15)\n",
    "o3 = Obstacle(35, 20, 5, 15)\n",
    "\n",
    "start = (25, 40)\n",
    "goal = (25, 10)\n",
    "\n",
    "width = 50\n",
    "height = 50\n",
    "\n",
    "BLOCKED = 0\n",
    "FREE = 1\n",
    "GOAL = 2\n",
    "START = 3\n",
    "VISITED = 4\n",
    "PATH = 5\n",
    "\n",
    "def showWorld(field):\n",
    "    field[start] = Space.START.value\n",
    "    field[goal] = Space.GOAL.value\n",
    "\n",
    "    world = SpaceWorld(width, height, obstacles=[o1,o2,o3])\n",
    "    world.setBackground(field)\n",
    "    world.showScene()"
   ]
  },
  {
   "cell_type": "markdown",
   "execution_count": null,
   "metadata": {},
   "outputs": [],
   "source": [
    "**Aufgabe**: Erstelle zwei verschachtelte Schleifen. Die erste iteriert über die Breite (``i in range(width)``) und die zweite über die Höhe (``j in range(width)``). Das ``world``-Modul stellt eine Funktion bereit, mit der wir bestimmen können, ob eine bestimmte Position erreichbar ist. Wenn diese Funktion (``world.freeSpace(x=i,y=j,radius=3)``) ``True`` zurückgibt, setze den Wert in ``fields[i][j]`` auf ``FREE``."
   ]
  },
  {
   "cell_type": "code",
   "execution_count": null,
   "metadata": {},
   "outputs": [],
   "source": [
    "def initializeField():\n",
    "    field = np.zeros((width,height))\n",
    "    # ------ add your code here ---------\n",
    "\n",
    "\n",
    "    # -----------------------------------\n",
    "    return field\n",
    "\n",
    "showWorld(initializeField())"
   ]
  },
  {
   "cell_type": "markdown",
   "execution_count": null,
   "metadata": {},
   "outputs": [],
   "source": [
    "## Der Waldbrand-Algorithmus\n",
    "\n",
    "Der Waldbrand-Algorithmus ist ein einfacher Pfadplanungsalgorithmus, der Schritt für Schritt seine Umwelt erforscht. Beginnend beim Startrasterpunkt erkunden wir die Rasterpunkte oberhalb, unterhalb, rechts und links von diesem Rasterpunkt. Wenn sich die Rasterpunkte im freien Raum befinden erkunden wir in der nächsten Iteration deren direkten Nachbarn, bis wir entweder keine freien Rasterpunkte mehr finden, oder den Zielpunkt gefunden haben.\n",
    "\n",
    "In der Liste ``exploring`` speichern wir alle Rasterpunkte ab, die wir erkunden wollen. Zunächst ist dies nur der Startrasterpunkt ``start``. Dessen Status setzten wir auf ``VISITED``. Solange diese Liste nicht leer ist erkunden wir die direkten Nachbarn des ersten Rasterpunktes in der Liste.\n",
    "\n",
    "**Aufgabe:** Ergänze die ``while`` Schleife, sodass in jeder Iteration die direkten Nachbarn (oben, unten, rechts, links) des aktuellen Rasterpunktes ``(x,y)`` erkundet werden. Füge dazu die Rasterpunkte der ``exploring`` Liste mit ``append`` hinzu, wenn der Rasterpunkt den Status ``FREE`` hat. Setzte den Status anschließend auf ``VISITED``, damit er nicht mehrfach erkundet wird."
   ]
  },
  {
   "cell_type": "code",
   "execution_count": null,
   "metadata": {},
   "outputs": [],
   "source": [
    "def findGoal():\n",
    "    field = initializeField()\n",
    "\n",
    "    exploring = [start]\n",
    "    field[start] = VISITED\n",
    "\n",
    "    # Begrenzung der Iterationen auf 2000, um Endlosschleife zu vermeiden\n",
    "    iterations = 0\n",
    "    timeout = 2000\n",
    "\n",
    "    while len(exploring) > 0 and iterations < timeout:\n",
    "        # erster Rasterpunkt in der Liste\n",
    "        (x, y) = exploring.pop(0)\n",
    "        # Ziel wurde gefunden\n",
    "        if (x,y) == goal:\n",
    "            break\n",
    "        # ----- add your code here -----------\n",
    "        \n",
    "\n",
    "\n",
    "        # ------------------------------------\n",
    "        iterations += 1\n",
    "    \n",
    "    return field\n",
    "\n",
    "\n",
    "showWorld(findGoal())"
   ]
  },
  {
   "cell_type": "markdown",
   "execution_count": null,
   "metadata": {},
   "outputs": [],
   "source": [
    "Auch wenn wir jetzt das Ziel gefunden haben, wissen wir noch nicht, was der kürzeste Weg vom Start- zum Zielpunkt ist. Dazu müssen wir uns bei jeder Iteration speichern, welcher Rasterpunkt der unmittelbare Vorgänger der Zelle war. Dazu nutzen wir das Array ``parents``.\n",
    "\n",
    "**Aufgabe:** Kopiere deinen Code aus der oberen Zelle und ergänze ihn so, dass beim Erkunden einer Zelle zusätzlich der Vorgängerrasterpunkt in parents gepeichert wird. Befinden wir uns beispielsweise an der Position (5, 17) und erkunden die Zelle (6,17), rufe ``parents[6][17] = (5,17)`` auf."
   ]
  },
  {
   "cell_type": "code",
   "execution_count": null,
   "metadata": {},
   "outputs": [],
   "source": [
    "def findPath():\n",
    "    field = initializeField()\n",
    "\n",
    "    exploring = [start]\n",
    "    field[start] = VISITED\n",
    "\n",
    "    # Array zum Speichern des Vorgängers für jeden Rasterpunkt\n",
    "    parents = [[None for i in range(width)] for j in range(height)]\n",
    "\n",
    "    # Begrenzung der Iterationen auf 2000, um Endlosschleife zu vermeiden\n",
    "    iterations = 0\n",
    "    timeout = 2000\n",
    "\n",
    "    while len(exploring) > 0 and iterations < timeout:\n",
    "        # erster Rasterpunkt in der Liste\n",
    "        (x, y) = exploring.pop(0)\n",
    "        # Ziel wurde gefunden\n",
    "        if (x,y) == goal:\n",
    "            break\n",
    "        # ----- add your code here -----------\n",
    "        \n",
    "\n",
    "\n",
    "        # ------------------------------------\n",
    "        iterations += 1\n",
    "    \n",
    "    return field, parents\n",
    "\n",
    "field, parents = findPath()\n",
    "\n",
    "def getParent(p):\n",
    "  (x,y) = p\n",
    "  return parents[x][y]\n",
    "\n",
    "current = goal\n",
    "while current is not None:\n",
    "  (x, y) = current\n",
    "  field[x][y] = Space.PATH.value\n",
    "  current = getParent(current)\n",
    "\n",
    "showWorld(findGoal())"
   ]
  }
 ]
}